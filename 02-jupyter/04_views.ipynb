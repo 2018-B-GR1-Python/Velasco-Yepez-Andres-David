{
 "cells": [
  {
   "cell_type": "code",
   "execution_count": 2,
   "metadata": {},
   "outputs": [],
   "source": [
    "import numpy as np"
   ]
  },
  {
   "cell_type": "code",
   "execution_count": 16,
   "metadata": {},
   "outputs": [],
   "source": [
    "frutas = np.array(['Piña','Manzana','Melon','Mandarina','Pera','Coco'])"
   ]
  },
  {
   "cell_type": "code",
   "execution_count": 17,
   "metadata": {},
   "outputs": [],
   "source": [
    "cesta_fruta_uno = frutas.view()\n",
    "cesta_fruta_dos = frutas.view()"
   ]
  },
  {
   "cell_type": "code",
   "execution_count": 18,
   "metadata": {},
   "outputs": [
    {
     "name": "stdout",
     "output_type": "stream",
     "text": [
      "['Piña' 'Manzana' 'Melon' 'Mandarina' 'Pera' 'Coco']\n",
      "['Piña' 'Manzana' 'Melon' 'Mandarina' 'Pera' 'Coco']\n"
     ]
    }
   ],
   "source": [
    "print (cesta_fruta_uno)\n",
    "print (frutas)"
   ]
  },
  {
   "cell_type": "code",
   "execution_count": 19,
   "metadata": {},
   "outputs": [
    {
     "name": "stdout",
     "output_type": "stream",
     "text": [
      "2937271847872\n",
      "2937271922736\n"
     ]
    }
   ],
   "source": [
    "print (id(cesta_fruta_uno))\n",
    "print (id(frutas))"
   ]
  },
  {
   "cell_type": "code",
   "execution_count": 20,
   "metadata": {},
   "outputs": [
    {
     "name": "stdout",
     "output_type": "stream",
     "text": [
      "False\n"
     ]
    }
   ],
   "source": [
    "print(cesta_fruta_uno is frutas)"
   ]
  },
  {
   "cell_type": "code",
   "execution_count": 21,
   "metadata": {},
   "outputs": [
    {
     "name": "stdout",
     "output_type": "stream",
     "text": [
      "True\n"
     ]
    }
   ],
   "source": [
    "print(cesta_fruta_uno.base is frutas)"
   ]
  },
  {
   "cell_type": "code",
   "execution_count": 22,
   "metadata": {},
   "outputs": [],
   "source": [
    "cesta_fruta_uno[0] = 'Naranja'"
   ]
  },
  {
   "cell_type": "code",
   "execution_count": 23,
   "metadata": {},
   "outputs": [
    {
     "name": "stdout",
     "output_type": "stream",
     "text": [
      "['Naranja' 'Manzana' 'Melon' 'Mandarina' 'Pera' 'Coco']\n"
     ]
    }
   ],
   "source": [
    "print(frutas) # Las vistas hacen referencia a las frutas o al primer arreglo cual copiaron el contenido"
   ]
  },
  {
   "cell_type": "code",
   "execution_count": 24,
   "metadata": {},
   "outputs": [
    {
     "name": "stdout",
     "output_type": "stream",
     "text": [
      "['Naranja' 'Manzana' 'Melon' 'Mandarina' 'Pera' 'Coco']\n"
     ]
    }
   ],
   "source": [
    "print(cesta_fruta_uno) # Luego las vistas se actualizan"
   ]
  },
  {
   "cell_type": "code",
   "execution_count": 25,
   "metadata": {},
   "outputs": [],
   "source": [
    "cesta_fruta_uno = np.array(['Frutilla','Uva','Papaya','Platano'])"
   ]
  },
  {
   "cell_type": "code",
   "execution_count": 27,
   "metadata": {},
   "outputs": [
    {
     "name": "stdout",
     "output_type": "stream",
     "text": [
      "['Frutilla' 'Uva' 'Papaya' 'Platano']\n",
      "['Naranja' 'Manzana' 'Melon' 'Mandarina' 'Pera' 'Coco']\n",
      "['Naranja' 'Manzana' 'Melon' 'Mandarina' 'Pera' 'Coco']\n"
     ]
    }
   ],
   "source": [
    "print(cesta_fruta_uno)\n",
    "print(cesta_fruta_dos)\n",
    "print(frutas)\n",
    "# LA VISTA DE DEJO DE SER VISTA"
   ]
  },
  {
   "cell_type": "code",
   "execution_count": 28,
   "metadata": {},
   "outputs": [],
   "source": [
    "cesta_fruta_dos.shape = 3,2\n"
   ]
  },
  {
   "cell_type": "code",
   "execution_count": 29,
   "metadata": {},
   "outputs": [
    {
     "name": "stdout",
     "output_type": "stream",
     "text": [
      "[['Naranja' 'Manzana']\n",
      " ['Melon' 'Mandarina']\n",
      " ['Pera' 'Coco']]\n",
      "['Naranja' 'Manzana' 'Melon' 'Mandarina' 'Pera' 'Coco']\n"
     ]
    }
   ],
   "source": [
    "print(cesta_fruta_dos)\n",
    "print(frutas)\n",
    "# Tambien en esta caso el orignal no resulta afectado"
   ]
  },
  {
   "cell_type": "code",
   "execution_count": null,
   "metadata": {},
   "outputs": [],
   "source": []
  }
 ],
 "metadata": {
  "kernelspec": {
   "display_name": "Python 3",
   "language": "python",
   "name": "python3"
  },
  "language_info": {
   "codemirror_mode": {
    "name": "ipython",
    "version": 3
   },
   "file_extension": ".py",
   "mimetype": "text/x-python",
   "name": "python",
   "nbconvert_exporter": "python",
   "pygments_lexer": "ipython3",
   "version": "3.6.5"
  }
 },
 "nbformat": 4,
 "nbformat_minor": 2
}
