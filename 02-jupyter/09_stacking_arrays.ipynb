{
 "cells": [
  {
   "cell_type": "code",
   "execution_count": 1,
   "metadata": {},
   "outputs": [],
   "source": [
    "import numpy as np"
   ]
  },
  {
   "cell_type": "code",
   "execution_count": 2,
   "metadata": {},
   "outputs": [],
   "source": [
    "paises_uno = np.array([['Ecuador','Colombia'],['Peru','Uruguay']])\n",
    "paises_dos = np.array([['Brazil','Mexico'],['Venezuela','Argentina']])"
   ]
  },
  {
   "cell_type": "code",
   "execution_count": 4,
   "metadata": {},
   "outputs": [
    {
     "name": "stdout",
     "output_type": "stream",
     "text": [
      "[['Ecuador' 'Colombia']\n",
      " ['Peru' 'Uruguay']\n",
      " ['Brazil' 'Mexico']\n",
      " ['Venezuela' 'Argentina']]\n"
     ]
    }
   ],
   "source": [
    "paises = np.concatenate((paises_uno,paises_dos))\n",
    "print(paises)"
   ]
  },
  {
   "cell_type": "code",
   "execution_count": 6,
   "metadata": {},
   "outputs": [
    {
     "name": "stdout",
     "output_type": "stream",
     "text": [
      "[['Ecuador' 'Colombia' 'Brazil' 'Mexico']\n",
      " ['Peru' 'Uruguay' 'Venezuela' 'Argentina']]\n"
     ]
    }
   ],
   "source": [
    "paises2 = np.concatenate((paises_uno,paises_dos),axis =1)\n",
    "print(paises2)\n"
   ]
  },
  {
   "cell_type": "code",
   "execution_count": 7,
   "metadata": {},
   "outputs": [],
   "source": [
    "# Stack\n",
    "a = np.array([1,2,3])\n",
    "b = np.array([1,2,3])\n",
    "c = np.stack((a,b))"
   ]
  },
  {
   "cell_type": "code",
   "execution_count": 8,
   "metadata": {},
   "outputs": [
    {
     "data": {
      "text/plain": [
       "array([[1, 2, 3],\n",
       "       [1, 2, 3]])"
      ]
     },
     "execution_count": 8,
     "metadata": {},
     "output_type": "execute_result"
    }
   ],
   "source": [
    "c"
   ]
  },
  {
   "cell_type": "code",
   "execution_count": 9,
   "metadata": {},
   "outputs": [],
   "source": [
    "nombres = ['Andres','Juan','Pedro','Rodolfo']\n",
    "ids = [1,2,3,4]\n",
    "notas = [7.5,8,8.5,9]"
   ]
  },
  {
   "cell_type": "code",
   "execution_count": 10,
   "metadata": {},
   "outputs": [
    {
     "name": "stdout",
     "output_type": "stream",
     "text": [
      "[['Andres' 'Juan' 'Pedro' 'Rodolfo']\n",
      " ['1' '2' '3' '4']\n",
      " ['7.5' '8.0' '8.5' '9.0']]\n"
     ]
    }
   ],
   "source": [
    "print(np.stack((nombres,ids,notas)))"
   ]
  },
  {
   "cell_type": "code",
   "execution_count": 11,
   "metadata": {},
   "outputs": [
    {
     "name": "stdout",
     "output_type": "stream",
     "text": [
      "[['Andres' '1' '7.5']\n",
      " ['Juan' '2' '8.0']\n",
      " ['Pedro' '3' '8.5']\n",
      " ['Rodolfo' '4' '9.0']]\n"
     ]
    }
   ],
   "source": [
    "print(np.stack((nombres,ids,notas),axis=1))"
   ]
  },
  {
   "cell_type": "code",
   "execution_count": null,
   "metadata": {},
   "outputs": [],
   "source": []
  }
 ],
 "metadata": {
  "kernelspec": {
   "display_name": "Python 3",
   "language": "python",
   "name": "python3"
  },
  "language_info": {
   "codemirror_mode": {
    "name": "ipython",
    "version": 3
   },
   "file_extension": ".py",
   "mimetype": "text/x-python",
   "name": "python",
   "nbconvert_exporter": "python",
   "pygments_lexer": "ipython3",
   "version": "3.6.5"
  }
 },
 "nbformat": 4,
 "nbformat_minor": 2
}
