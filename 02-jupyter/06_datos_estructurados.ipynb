{
 "cells": [
  {
   "cell_type": "code",
   "execution_count": 1,
   "metadata": {},
   "outputs": [],
   "source": [
    "import numpy as np"
   ]
  },
  {
   "cell_type": "code",
   "execution_count": 4,
   "metadata": {},
   "outputs": [
    {
     "name": "stdout",
     "output_type": "stream",
     "text": [
      "[('nombre', '<U8'), ('edad', '<i4'), ('peso', '<f8')]\n"
     ]
    }
   ],
   "source": [
    "datos = np.zeros(4,dtype={'names':('nombre','edad','peso'),\n",
    "                         'formats':('U8','i4','f8')\n",
    "                        })\n",
    "print(datos.dtype)"
   ]
  },
  {
   "cell_type": "code",
   "execution_count": 5,
   "metadata": {},
   "outputs": [],
   "source": [
    "nombres = ['Andres','Juan','Pedro','Rodolfo']\n",
    "ids = [1,2,3,4]\n",
    "notas = [7.5,8,8.5,9]"
   ]
  },
  {
   "cell_type": "code",
   "execution_count": 6,
   "metadata": {},
   "outputs": [],
   "source": [
    "datos_estudiantes = np.zeros(4,dtype={\n",
    "                                        'names':('nombre','identificador','calificador'),\n",
    "                                        'formats':('U7','u8','f4')\n",
    "                                     })\n"
   ]
  },
  {
   "cell_type": "code",
   "execution_count": 7,
   "metadata": {},
   "outputs": [
    {
     "name": "stdout",
     "output_type": "stream",
     "text": [
      "[('', 0, 0.) ('', 0, 0.) ('', 0, 0.) ('', 0, 0.)]\n"
     ]
    }
   ],
   "source": [
    "print(datos_estudiantes)"
   ]
  },
  {
   "cell_type": "code",
   "execution_count": 8,
   "metadata": {},
   "outputs": [],
   "source": [
    "datos_estudiantes['nombre']=nombres\n",
    "datos_estudiantes['identificador']=ids\n",
    "datos_estudiantes['calificador']=notas"
   ]
  },
  {
   "cell_type": "code",
   "execution_count": 13,
   "metadata": {},
   "outputs": [
    {
     "name": "stdout",
     "output_type": "stream",
     "text": [
      "['Andres' 'Juan' 'Pedro' 'Rodolfo']\n",
      "[1 2 3 4]\n",
      "[7.5 8.  8.5 9. ]\n"
     ]
    }
   ],
   "source": [
    "print(datos_estudiantes['nombre'])\n",
    "print(datos_estudiantes['identificador'])\n",
    "print(datos_estudiantes['calificador'])"
   ]
  },
  {
   "cell_type": "markdown",
   "metadata": {},
   "source": [
    "## Nombres de los estudiantes que tengan la nota mayor a 8.5"
   ]
  },
  {
   "cell_type": "code",
   "execution_count": 21,
   "metadata": {},
   "outputs": [
    {
     "data": {
      "text/plain": [
       "array(['Rodolfo'], dtype='<U7')"
      ]
     },
     "execution_count": 21,
     "metadata": {},
     "output_type": "execute_result"
    }
   ],
   "source": [
    "datos_estudiantes[datos_estudiantes['calificador']> 8.5]['nombre']"
   ]
  },
  {
   "cell_type": "code",
   "execution_count": null,
   "metadata": {},
   "outputs": [],
   "source": []
  },
  {
   "cell_type": "code",
   "execution_count": null,
   "metadata": {},
   "outputs": [],
   "source": []
  }
 ],
 "metadata": {
  "kernelspec": {
   "display_name": "Python 3",
   "language": "python",
   "name": "python3"
  },
  "language_info": {
   "codemirror_mode": {
    "name": "ipython",
    "version": 3
   },
   "file_extension": ".py",
   "mimetype": "text/x-python",
   "name": "python",
   "nbconvert_exporter": "python",
   "pygments_lexer": "ipython3",
   "version": "3.6.5"
  }
 },
 "nbformat": 4,
 "nbformat_minor": 2
}
