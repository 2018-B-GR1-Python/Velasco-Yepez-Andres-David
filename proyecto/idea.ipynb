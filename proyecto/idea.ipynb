{
 "cells": [
  {
   "cell_type": "markdown",
   "metadata": {},
   "source": [
    "# Homicidios y Asesinatos\n",
    "Dada la alta tasa de violencia que un pais del tercer mundo como el nuestro vive cada día a razón de escasa gestion del orden publico por parte de las autoridades responables de la seguridad de los cuidadanos, que en casos extremos, ha desembocado en homicidios y asesinatos, por ello es necesario analizar estos hechos con el fin determinar las regiones más vulnerables a este tipo de violencia, como tambien otros factores relevantes como sexo, edad, situacion civil de las victimas. Para ello se hara uso los datos abiertos que el gobierno da a disposicion de la ciudadania.\n",
    "\n",
    "##  Descripcion de la base de datos.\n",
    "La base de datos a usar, es sin duda los datos abiertos de homocidios y asesinatos estructurados como se muestra en la siguiente tabla que ademas es una muestra pequeña de los miles de datos que existen en este conjunto de datos público.\n",
    "\n",
    "|_id|Canton|Circuito|Distrito|Edad|Estado Civil|Fecha Infracción|Hora Infracción|Nacionalidad|Provincia|Sexo|Zona|tipo_muert_matriz|\n",
    "|:-|:----|:-------|:-------|---:|-----------:|---------------:|--------------:|-----------:|--------:|---:|---:|-----------------:|\n",
    "|1|ESMERALDAS|CENTRO|ESMERALDAS|22|SOLTERO|2014-04-30T00:00:00|2015-12-02T13:40:00|ECUADOR|ESMERALDAS|MASCULINO|ZONA 1|Homicidios|\n",
    "|2|SEVILLA_DE_ORO|SEVILLA DE ORO|PAUTE|51|SOLTERO|2014-04-30T00:00:00||ECUADOR|AZUAY|MASCULINO|ZONA 6|Homicidios|\n",
    "|3|QUEVEDO|DIVINO NIÑO|QUEVEDO|36|SOLTERO|2014-02-05T00:00:00|2015-12-02T04:30:00|ECUADOR|LOS_RIOS|FEMENINO|ZONA 5|Femicidios|\n",
    "|4|GUAYAQUIL|MAPASINGUE|FLORIDA|17|SOLTERO|2014-02-05T00:00:00|2015-12-02T01:00:00|ECUADOR|GUAYAS|MASCULINO|ZONA 8|Asesinatos|\n",
    "|5|GONZANAMA|GONZANAMA|CALVAS|20|SOLTERO|2014-03-05T00:00:00|2015-12-02T19:50:00|ECUADOR|LOJA|MASCULINO|ZONA 7|Asesinatos|\n",
    "|6|VINCES|ABRAS DE MANTEQUILLA|VINCES|38|SOLTERO|2014-03-05T00:00:00|2015-12-02T23:00:00|ECUADOR|LOS_RIOS|MASCULINO|ZONA 5|Asesinatos|\n",
    "|7|LATACUNGA|TERMINAL TERRESTRE|LATACUNGA|24|SOLTERO|2014-01-05T00:00:00|2015-12-02T21:00:00|ECUADOR|COTOPAXI|MASCULINO|ZONA 3|Asesinatos|\n",
    "|8|RUMINAHUI|SAN RAFAEL|RUMIÑAHUI - MEJIA|65|CASADO|2014-04-05T00:00:00|2015-12-02T19:15:00|ECUADOR|PICHINCHA|MASCULINO|ZONA 2|Asesinatos|\n",
    "|9|GIRON|GIRON|GIRON|82|VIUDO|2014-03-05T00:00:00||ECUADOR|AZUAY|FEMENINO|ZONA 6|Asesinatos|\n",
    "|10|GUAYAQUIL|CISNE|PORTETE|21|SOLTERO|2014-04-05T00:00:00|2015-12-02T23:00:00|ECUADOR|GUAYAS|MASCULINO|ZONA 8|Asesinatos|\n",
    "|11|GUAYAQUIL|MARTHA DE ROLDOS|FLORIDA|28|SOLTERO|2014-03-05T00:00:00|2015-12-02T19:23:00|ECUADOR|GUAYAS|MASCULINO|ZONA 8|Homicidios|\n",
    "|12|GUAYAQUIL|ANTEPARA|9 DE OCTUBRE|53|SOLTERO|2014-03-05T00:00:00|2015-12-02T22:00:00|ECUADOR|GUAYAS|MASCULINO|ZONA 8|Homicidios|\n",
    "|13|GUAYAQUIL|TRINITARIA SUR|ESTEROS|19|SOLTERO|2014-04-05T00:00:00|2015-12-02T02:30:00|ECUADOR|GUAYAS|MASCULINO|ZONA 8|Homicidios|\n",
    "|14|QUITO|MAGDALENA|ELOY ALFARO|27|SOLTERO|2014-05-05T00:00:00|2015-12-02T05:45:00|ECUADOR|PICHINCHA|MASCULINO|ZONA 9|Homicidios|\n",
    "|15|RIOBAMBA|QUIMIAG|RIOBAMBA|18|SOLTERO|2014-04-30T00:00:00|2015-12-02T00:00:00|ECUADOR|CHIMBORAZO|FEMENINO|ZONA 3|Homicidios|\n",
    "|16|GUAYAQUIL|TRINITARIA NORTE|ESTEROS|26|SOLTERO|2014-05-05T00:00:00|2015-12-02T12:00:00|ECUADOR|GUAYAS|MASCULINO|ZONA 8|Asesinatos|\n",
    "|17|QUEVEDO|CONTROL|QUEVEDO|27|SOLTERO|2014-05-05T00:00:00|2015-12-02T22:20:00|ECUADOR|LOS_RIOS|MASCULINO|ZONA 5|Asesinatos|\n",
    "|18|SAN_JACINTO_DE_BUENA_FE|BUENA FE ESTE|BUENA FE|20|SOLTERO|2014-06-05T00:00:00|2015-12-02T20:31:00|ECUADOR|LOS_RIOS|MASCULINO|ZONA 5|Asesinatos|\n",
    "|19|QUEVEDO|GALO PLAZA|QUEVEDO|13|SOLTERO|2014-01-14T00:00:00|2015-12-02T11:16:00|ECUADOR|LOS_RIOS|MASCULINO|ZONA 5|Asesinatos|\n",
    "|20|PUERTO_FRANCISCO_DE_ORELLANA|NUEVO PARAISO|ORELLANA LORETO|31|SOLTERO|2014-01-26T00:00:00|2015-12-02T05:00:00|ECUADOR|ORELLANA|MASCULINO|ZONA 2|Asesinatos|"
   ]
  },
  {
   "cell_type": "markdown",
   "metadata": {},
   "source": [
    "## Obtencion de datos\n",
    "Para este procedimiento se ha hecho uso de la siguiente API:\n",
    "#### http://catalogo.datosabiertos.gob.ec/api/action/datastore_search?resource_id=8513f446-1c94-426e-8592-d4cbdd295f33&limit=1000"
   ]
  },
  {
   "cell_type": "markdown",
   "metadata": {},
   "source": [
    "### Procedimiento"
   ]
  },
  {
   "cell_type": "markdown",
   "metadata": {},
   "source": [
    "#### Dependencias"
   ]
  },
  {
   "cell_type": "code",
   "execution_count": 2,
   "metadata": {},
   "outputs": [],
   "source": [
    "import pandas as pd\n",
    "import matplotlib.pyplot as plt"
   ]
  },
  {
   "cell_type": "markdown",
   "metadata": {},
   "source": [
    "### Obtencion de datos crudos"
   ]
  },
  {
   "cell_type": "code",
   "execution_count": 3,
   "metadata": {},
   "outputs": [],
   "source": [
    "url = 'http://catalogo.datosabiertos.gob.ec/api/action/datastore_search?resource_id=8513f446-1c94-426e-8592-d4cbdd295f33&limit=1000'\n",
    "\n",
    "datos = pd.read_json(url, typ='frame')\n"
   ]
  },
  {
   "cell_type": "markdown",
   "metadata": {},
   "source": [
    "### Estructuracion de los datos\n",
    "En este paso se ha eliminado información no relevante"
   ]
  },
  {
   "cell_type": "code",
   "execution_count": 5,
   "metadata": {},
   "outputs": [],
   "source": [
    "datos =pd.DataFrame.from_dict(datos[\"result\"][\"records\"]).set_index(\"_id\")\n"
   ]
  },
  {
   "cell_type": "markdown",
   "metadata": {},
   "source": [
    "### Exportacion de datos\n",
    "Consecutivamente la informacion que se ha preparado es exportada a un archivo csv para respaldar la informacion"
   ]
  },
  {
   "cell_type": "code",
   "execution_count": 6,
   "metadata": {},
   "outputs": [],
   "source": [
    "datos.to_csv('./data/bdd_homicidios.csv', encoding='utf-8')\n"
   ]
  },
  {
   "cell_type": "markdown",
   "metadata": {},
   "source": [
    "### Analisis demostrativo\n",
    "Con esta informacion obtenida, se ha realizado un primer analisis referente a los homicidios y femicidios. El problema a resolver fue el siguiente ¿Cual es el sexo en el que se presentan más casos de homocidio/femicidio o asesinato ?"
   ]
  },
  {
   "cell_type": "markdown",
   "metadata": {},
   "source": [
    "#### Procedimiento\n",
    "Para el analisis el procedimiento mas eficiente o primordial para resolver el problema fue realizar un grafico de barras "
   ]
  },
  {
   "cell_type": "code",
   "execution_count": 7,
   "metadata": {},
   "outputs": [
    {
     "data": {
      "image/png": "[encoded data removed]",
      "text/plain": [
       "<Figure size 432x288 with 1 Axes>"
      ]
     },
     "metadata": {},
     "output_type": "display_data"
    }
   ],
   "source": [
    "plt.title(\"Homicidios por sexo\")\n",
    "datos['Sexo'].value_counts().plot(kind='bar')\n",
    "plt.show()"
   ]
  },
  {
   "cell_type": "markdown",
   "metadata": {},
   "source": [
    "#### Conclusion\n",
    "Dada la información mostrada en el anterior grafico, se puede concluir rapidamente que las personas de sexo masculino son el grupo más vulnerable a ser victimas de homicio o asesinato."
   ]
  },
  {
   "cell_type": "code",
   "execution_count": null,
   "metadata": {},
   "outputs": [],
   "source": []
  }
 ],
 "metadata": {
  "kernelspec": {
   "display_name": "Python 3",
   "language": "python",
   "name": "python3"
  },
  "language_info": {
   "codemirror_mode": {
    "name": "ipython",
    "version": 3
   },
   "file_extension": ".py",
   "mimetype": "text/x-python",
   "name": "python",
   "nbconvert_exporter": "python",
   "pygments_lexer": "ipython3",
   "version": "3.6.5"
  }
 },
 "nbformat": 4,
 "nbformat_minor": 2
}
